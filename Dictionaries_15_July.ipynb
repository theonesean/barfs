{
  "nbformat": 4,
  "nbformat_minor": 0,
  "metadata": {
    "colab": {
      "provenance": [],
      "authorship_tag": "ABX9TyOJpbhPyaebo8ymT75HjbCr",
      "include_colab_link": true
    },
    "kernelspec": {
      "name": "python3",
      "display_name": "Python 3"
    },
    "language_info": {
      "name": "python"
    }
  },
  "cells": [
    {
      "cell_type": "markdown",
      "metadata": {
        "id": "view-in-github",
        "colab_type": "text"
      },
      "source": [
        "<a href=\"https://colab.research.google.com/github/theonesean/barfs/blob/master/Dictionaries_15_July.ipynb\" target=\"_parent\"><img src=\"https://colab.research.google.com/assets/colab-badge.svg\" alt=\"Open In Colab\"/></a>"
      ]
    },
    {
      "cell_type": "markdown",
      "source": [
        "# Constructing Dictionaries\n",
        "\n",
        "## For Marta, 15 July 2023\n",
        "\n",
        "The main focus for these examples:\n",
        "\n",
        "The different ways to construct a dictionary and the reasoning behind them/potential applications.\n",
        "\n"
      ],
      "metadata": {
        "id": "myOdUE8wtvRK"
      }
    },
    {
      "cell_type": "markdown",
      "source": [
        "## DICTIONARIES\n",
        "\n",
        "There are a bunch of ways to create a dictionary. Generally, these exist because Python has an ethos of supporting a wide variety of \"opinions\" and use cases, esp. with standard library primitives."
      ],
      "metadata": {
        "id": "hWvOm6M2t_Tq"
      }
    },
    {
      "cell_type": "markdown",
      "source": [
        "### creating an empty dictionary"
      ],
      "metadata": {
        "id": "Qkovg68JuDeS"
      }
    },
    {
      "cell_type": "code",
      "source": [
        "dict1 = {}\n",
        "dict1"
      ],
      "metadata": {
        "id": "ScSG5WTluFsy"
      },
      "execution_count": null,
      "outputs": []
    },
    {
      "cell_type": "markdown",
      "source": [
        "or..."
      ],
      "metadata": {
        "id": "JhyHtmd6uF87"
      }
    },
    {
      "cell_type": "code",
      "source": [
        "dict2 = dict()\n",
        "dict2"
      ],
      "metadata": {
        "id": "P6qGgX9ruGeW"
      },
      "execution_count": null,
      "outputs": []
    },
    {
      "cell_type": "code",
      "source": [
        "dict1 == dict2"
      ],
      "metadata": {
        "id": "GjF6PKXmuL0b"
      },
      "execution_count": null,
      "outputs": []
    },
    {
      "cell_type": "markdown",
      "source": [
        "This is because Python dictionaries are classes under the hood, so you can use a class constructor to create them.\n",
        "\n",
        "There are some implementation details that I'm glossing over here, mostly because `dict` is implemented in C!\n",
        "\n",
        "But we got diverted. Let's talk about creating dictionaries with stuff in them.\n",
        "You obviously can create them with curly bracket syntax:"
      ],
      "metadata": {
        "id": "FHwe1rUJuXIp"
      }
    },
    {
      "cell_type": "code",
      "source": [
        "dict3 = {\"uno\": 1, \"dos\": 2}\n",
        "dict3"
      ],
      "metadata": {
        "id": "eAuY_nImuYU8"
      },
      "execution_count": null,
      "outputs": []
    },
    {
      "cell_type": "code",
      "source": [
        "dict3[\"uno\"]"
      ],
      "metadata": {
        "id": "ICPBUxGTud1M"
      },
      "execution_count": null,
      "outputs": []
    },
    {
      "cell_type": "markdown",
      "source": [
        "In Python, as opposed to JS, (which doesnt have a real hash table type, like dict in Python -- it has \"object\") dictionaries can be indexed by basically anything, not just strings. (Which is why you don't have that nice `dict.key` syntax that you do in JS. You have to do `dict[\"key\"]` instead.)"
      ],
      "metadata": {
        "id": "yTmlISjuuf8U"
      }
    },
    {
      "cell_type": "code",
      "source": [
        "dict4 = {3: \"tres\", 4: \"cuatro\"}\n",
        "dict4"
      ],
      "metadata": {
        "id": "c54SqGerunIF"
      },
      "execution_count": null,
      "outputs": []
    },
    {
      "cell_type": "code",
      "source": [
        "dict4[3]"
      ],
      "metadata": {
        "id": "9uoDZa9_unbw"
      },
      "execution_count": null,
      "outputs": []
    },
    {
      "cell_type": "markdown",
      "source": [
        "You can also use the `dict()` constructor with keyword arguments to create a dictionary:"
      ],
      "metadata": {
        "id": "yMwwg5dquqVX"
      }
    },
    {
      "cell_type": "code",
      "source": [
        "dict5 = dict(cinco=\"five\", seis=\"six\")\n",
        "dict5"
      ],
      "metadata": {
        "id": "pP5yrN-hur_D"
      },
      "execution_count": null,
      "outputs": []
    },
    {
      "cell_type": "code",
      "source": [
        "dict5[\"cinco\"] # notice that the keyword arguments are converted to strings by default"
      ],
      "metadata": {
        "id": "a8zRF_lAusTG"
      },
      "execution_count": null,
      "outputs": []
    },
    {
      "cell_type": "markdown",
      "source": [
        "You can also construct a dictionary with a list of tuples:"
      ],
      "metadata": {
        "id": "Wd4U8o_ouykR"
      }
    },
    {
      "cell_type": "code",
      "source": [
        "list_for_6 = [(\"siete\", 7), (\"ocho\", 8)]\n",
        "dict6 = dict(list_for_6)\n",
        "dict6"
      ],
      "metadata": {
        "id": "82pC3qdbuy3H"
      },
      "execution_count": null,
      "outputs": []
    },
    {
      "cell_type": "code",
      "source": [
        "dict6['ocho']"
      ],
      "metadata": {
        "id": "CJpeXkqnu6je"
      },
      "execution_count": null,
      "outputs": []
    },
    {
      "cell_type": "markdown",
      "source": [
        "This can be combined with the `zip()` function to turn two lists into a list of tuples, and then into a dictionary.\n",
        "\n",
        "Imagine we had a list of names and a list of scores:"
      ],
      "metadata": {
        "id": "HmIPwbAju99l"
      }
    },
    {
      "cell_type": "code",
      "source": [
        "roster = [\"Juan\", \"Amy\", \"Keith\"]\n",
        "score = [85, 100, 68]\n",
        "zip_for_7 = zip(roster, score)\n",
        "zip_for_7 # what do you think this will print out?"
      ],
      "metadata": {
        "id": "5h43mOiGvCRV"
      },
      "execution_count": null,
      "outputs": []
    },
    {
      "cell_type": "code",
      "source": [
        "dict7 = dict(zip_for_7)\n",
        "dict7"
      ],
      "metadata": {
        "id": "M3mTfW_pvJbN"
      },
      "execution_count": null,
      "outputs": []
    },
    {
      "cell_type": "code",
      "source": [
        "dict7[\"Keith\"]"
      ],
      "metadata": {
        "id": "8ymUQaG6vKgI"
      },
      "execution_count": null,
      "outputs": []
    },
    {
      "cell_type": "markdown",
      "source": [
        "Typically, we'd shorten this to:"
      ],
      "metadata": {
        "id": "lhzg8xpovB6I"
      }
    },
    {
      "cell_type": "code",
      "source": [
        "dict7b = dict(zip(roster, score))\n",
        "dict7b"
      ],
      "metadata": {
        "id": "S8pvDL2evPyA"
      },
      "execution_count": null,
      "outputs": []
    },
    {
      "cell_type": "code",
      "source": [
        "dict7b == dict7"
      ],
      "metadata": {
        "id": "MxdsuykyvSFT"
      },
      "execution_count": null,
      "outputs": []
    },
    {
      "cell_type": "markdown",
      "source": [
        "Since `zip()` returns an iterable, and `dict()` can take an iterable to construct a dictionary, we can do the same thing for list comprehensions:"
      ],
      "metadata": {
        "id": "RCA6vXgJvV8P"
      }
    },
    {
      "cell_type": "code",
      "source": [
        "numbers = [2, 3, 4, 5, 6]\n",
        "dict8 = {n: n**2 for n in numbers} # note the { curly brackets }\n",
        "dict8"
      ],
      "metadata": {
        "id": "0VRv1nZTvWVx"
      },
      "execution_count": null,
      "outputs": []
    },
    {
      "cell_type": "code",
      "source": [
        "dict8[3]"
      ],
      "metadata": {
        "id": "w8tb4QL4vkLa"
      },
      "execution_count": null,
      "outputs": []
    },
    {
      "cell_type": "markdown",
      "source": [
        "Now, the specific use case you were confused about was a list of lists.\n",
        "\n",
        "Hopefully, it's apparent to you the similarities in Python between lots of seemingly-different types of objects that are all iterable. Many Python things will take an iterable argument, and so the range of potential inputs is much wider than just a list or tuple. (Strings, for example, are iterable!)\n",
        "\n",
        "Imagine a file formatted like this:"
      ],
      "metadata": {
        "id": "wX6g2Kk5vm2D"
      }
    },
    {
      "cell_type": "code",
      "source": [
        "file = \"\"\"Oscar: 78\n",
        "Junior: 90\n",
        "Eddy: 60\n",
        "Lin: 99\n",
        "\"\"\""
      ],
      "metadata": {
        "id": "NYfKpsYIvtei"
      },
      "execution_count": null,
      "outputs": []
    },
    {
      "cell_type": "markdown",
      "source": [
        "(This is a multi-line string in code, but it's equivalent to a text file for our purposes.)\n",
        "\n",
        "It's pretty easy, in Python, to turn each line into a list:"
      ],
      "metadata": {
        "id": "675UnePKvvef"
      }
    },
    {
      "cell_type": "code",
      "source": [
        "lines = file.splitlines()\n",
        "data = [line.split(\": \") for line in lines]\n",
        "data"
      ],
      "metadata": {
        "id": "2nvim8Muv3ri"
      },
      "execution_count": null,
      "outputs": []
    },
    {
      "cell_type": "markdown",
      "source": [
        "Now, it's as easy as..."
      ],
      "metadata": {
        "id": "Th-Ci-ZQv7w5"
      }
    },
    {
      "cell_type": "code",
      "source": [
        "dict9 = dict(data)\n",
        "dict9"
      ],
      "metadata": {
        "id": "-x7uUEimv8EF"
      },
      "execution_count": null,
      "outputs": []
    },
    {
      "cell_type": "code",
      "source": [
        "dict9[\"Lin\"]"
      ],
      "metadata": {
        "id": "H5r_gJaXwBhr"
      },
      "execution_count": null,
      "outputs": []
    },
    {
      "cell_type": "markdown",
      "source": [
        "There you go! And that's not so contrived of an example. Hopefully that answers your \"why\" questions a bit."
      ],
      "metadata": {
        "id": "H3cpZTpZv-3C"
      }
    }
  ]
}